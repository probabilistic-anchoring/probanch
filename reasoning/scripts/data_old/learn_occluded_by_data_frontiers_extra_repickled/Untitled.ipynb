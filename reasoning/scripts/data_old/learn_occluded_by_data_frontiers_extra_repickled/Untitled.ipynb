{
 "cells": [
  {
   "cell_type": "code",
   "execution_count": 1,
   "metadata": {},
   "outputs": [],
   "source": [
    "import pickle"
   ]
  },
  {
   "cell_type": "code",
   "execution_count": 23,
   "metadata": {},
   "outputs": [
    {
     "name": "stdout",
     "output_type": "stream",
     "text": [
      "{'mean_std': ((0.40042816984480767, 0.005333353671560828), (0.24115287534276628, 0.005595411734207228), (0.40056321253780736, 0.006096061021607567)), 'occluded_by': None, 'observed': 1.0}\n"
     ]
    }
   ],
   "source": [
    "for i in range(1,30):\n",
    "    try:\n",
    "        fn  = open(\"run1_time{}.pickle\".format(i),\"rb\")\n",
    "        d = pickle.load(fn)\n",
    "        occluded = None\n",
    "        for a in d[\"current\"][\"anchors\"]:\n",
    "            if  not d[\"current\"][\"anchors\"][a][\"occluded_by\"] is None:\n",
    "                if d[\"previous\"][\"anchors\"][a][\"occluded_by\"] is None:\n",
    "                    print(d[\"previous\"][\"anchors\"][a])\n",
    "    except:\n",
    "        pass"
   ]
  },
  {
   "cell_type": "code",
   "execution_count": null,
   "metadata": {},
   "outputs": [],
   "source": []
  },
  {
   "cell_type": "code",
   "execution_count": null,
   "metadata": {},
   "outputs": [],
   "source": []
  }
 ],
 "metadata": {
  "kernelspec": {
   "display_name": "Python 3",
   "language": "python",
   "name": "python3"
  },
  "language_info": {
   "codemirror_mode": {
    "name": "ipython",
    "version": 3
   },
   "file_extension": ".py",
   "mimetype": "text/x-python",
   "name": "python",
   "nbconvert_exporter": "python",
   "pygments_lexer": "ipython3",
   "version": "3.6.9"
  },
  "toc": {
   "base_numbering": 1,
   "nav_menu": {},
   "number_sections": true,
   "sideBar": true,
   "skip_h1_title": false,
   "title_cell": "Table of Contents",
   "title_sidebar": "Contents",
   "toc_cell": false,
   "toc_position": {},
   "toc_section_display": true,
   "toc_window_display": false
  }
 },
 "nbformat": 4,
 "nbformat_minor": 2
}
